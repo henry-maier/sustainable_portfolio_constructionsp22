{
 "cells": [
  {
   "cell_type": "code",
   "execution_count": 1,
   "id": "f2f68b13",
   "metadata": {},
   "outputs": [],
   "source": [
    "import yfinance as yf\n",
    "import matplotlib.pyplot as plt\n",
    "import os\n",
    "from constants import *"
   ]
  },
  {
   "cell_type": "code",
   "execution_count": null,
   "id": "edda26d1",
   "metadata": {},
   "outputs": [],
   "source": [
    "smart_beta_tickers = yf.Tickers(SMART_BETA_TICKERS)"
   ]
  },
  {
   "cell_type": "code",
   "execution_count": null,
   "id": "98348184",
   "metadata": {},
   "outputs": [],
   "source": [
    "smart_beta_data = smart_beta_tickers.download(group_by=\"column\", period=\"10y\")"
   ]
  },
  {
   "cell_type": "code",
   "execution_count": null,
   "id": "d5dcd2e3",
   "metadata": {},
   "outputs": [],
   "source": [
    "smart_beta_data['Close'].to_csv(os.path.join(DATA_FOLDER, \"10y_prices_smart_beta.csv\"), index=True)"
   ]
  },
  {
   "cell_type": "code",
   "execution_count": null,
   "id": "125b709d",
   "metadata": {},
   "outputs": [],
   "source": [
    "overall_tickers = yf.Tickers(OVERALL_ESG_TICKERS)\n",
    "overall_esg_data = overall_tickers.download(group_by=\"column\", period=\"10y\")\n",
    "overall_esg_data['Close'].to_csv(os.path.join(DATA_FOLDER, \"10y_prices_overall_esg.csv\"), index=True)"
   ]
  },
  {
   "cell_type": "code",
   "execution_count": null,
   "id": "72a688fd",
   "metadata": {},
   "outputs": [],
   "source": [
    "env_tickers = yf.Tickers(ENVIRONMENT_ESG_TICKERS)\n",
    "env_data = env_tickers.download(group_by=\"column\", period=\"10y\")\n",
    "env_data['Close'].to_csv(os.path.join(DATA_FOLDER, \"10y_prices_env_esg.csv\"), index=True)"
   ]
  },
  {
   "cell_type": "code",
   "execution_count": null,
   "id": "5f6268b0",
   "metadata": {},
   "outputs": [],
   "source": [
    "soc_tickers = yf.Tickers(SOCIAL_ESG_TICKERS)\n",
    "soc_data = soc_tickers.download(group_by=\"column\", period=\"10y\")\n",
    "soc_data['Close'].to_csv(os.path.join(DATA_FOLDER, \"10y_prices_soc_esg.csv\"), index=True)"
   ]
  },
  {
   "cell_type": "code",
   "execution_count": null,
   "id": "debe486a",
   "metadata": {},
   "outputs": [],
   "source": [
    "index_tickers = yf.Tickers(INDEX_TRACKER_TICKERS)\n",
    "index_data = index_tickers.download(group_by=\"column\", period=\"10y\")\n",
    "index_data['Close'].to_csv(os.path.join(DATA_FOLDER, \"10y_prices_index_trackers.csv\"), index=True)"
   ]
  },
  {
   "cell_type": "code",
   "execution_count": null,
   "id": "daaa590b",
   "metadata": {},
   "outputs": [],
   "source": [
    "smart_beta_esg_tickers = yf.Tickers(SMART_BETA_ESG_TICKERS)\n",
    "smart_beta_esg_data = smart_beta_esg_tickers.download(group_by=\"column\", period=\"10y\")\n",
    "smart_beta_esg_data['Close'].to_csv(os.path.join(DATA_FOLDER, \"10y_prices_smart_beta_esg.csv\"), index=True)"
   ]
  },
  {
   "cell_type": "code",
   "execution_count": 7,
   "id": "b94eabdb",
   "metadata": {},
   "outputs": [
    {
     "name": "stdout",
     "output_type": "stream",
     "text": [
      "[*********************100%***********************]  58 of 58 completed\n",
      "[*********************100%***********************]  58 of 58 completed\n"
     ]
    }
   ],
   "source": [
    "theme_tickers = yf.Tickers(HEALTHY_TICKERS + HEALTHY_SB_TICKETS + CARBON_THEME_TICKERS + CARBON_THEME_SB_TICKERS + \\\n",
    "                             WATER_CLEAN_ENERGY_TICKERS + WATER_CLEAN_ENERGY_SB_TICKERS)\n",
    "theme_data_3y = theme_tickers.download(period=\"3y\", interval=\"1mo\")\n",
    "theme_data_3y['Close'][theme_data_3y.index.day == 1].to_csv(os.path.join(DATA_FOLDER, \"3y_prices_theme_etfs.csv\"), index=True)\n",
    "theme_data_5y = theme_tickers.download(period=\"5y\", interval=\"1mo\")\n",
    "theme_data_5y['Close'][theme_data_5y.index.day == 1].to_csv(os.path.join(DATA_FOLDER, \"5y_prices_theme_etfs.csv\"), index=True)"
   ]
  },
  {
   "cell_type": "code",
   "execution_count": null,
   "id": "90d1370b",
   "metadata": {},
   "outputs": [],
   "source": []
  }
 ],
 "metadata": {
  "kernelspec": {
   "display_name": "Python 3 (ipykernel)",
   "language": "python",
   "name": "python3"
  },
  "language_info": {
   "codemirror_mode": {
    "name": "ipython",
    "version": 3
   },
   "file_extension": ".py",
   "mimetype": "text/x-python",
   "name": "python",
   "nbconvert_exporter": "python",
   "pygments_lexer": "ipython3",
   "version": "3.10.4"
  }
 },
 "nbformat": 4,
 "nbformat_minor": 5
}
