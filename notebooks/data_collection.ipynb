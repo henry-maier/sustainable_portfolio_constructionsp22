{
 "cells": [
  {
   "cell_type": "code",
   "execution_count": 97,
   "id": "f2f68b13",
   "metadata": {},
   "outputs": [],
   "source": [
    "import yfinance as yf\n",
    "import matplotlib.pyplot as plt\n",
    "import os\n",
    "from constants import *"
   ]
  },
  {
   "cell_type": "code",
   "execution_count": 99,
   "id": "edda26d1",
   "metadata": {},
   "outputs": [],
   "source": [
    "smart_beta_tickers = yf.Tickers(SMART_BETA_TICKERS)"
   ]
  },
  {
   "cell_type": "code",
   "execution_count": 100,
   "id": "98348184",
   "metadata": {},
   "outputs": [
    {
     "name": "stdout",
     "output_type": "stream",
     "text": [
      "[*********************100%***********************]  10 of 10 completed\n"
     ]
    }
   ],
   "source": [
    "smart_beta_data = smart_beta_tickers.download(group_by=\"column\", period=\"10y\")"
   ]
  },
  {
   "cell_type": "code",
   "execution_count": 101,
   "id": "d5dcd2e3",
   "metadata": {},
   "outputs": [],
   "source": [
    "smart_beta_data['Close'].to_csv(os.path.join(DATA_FOLDER, \"10y_prices_smart_beta.csv\"), index=True)"
   ]
  },
  {
   "cell_type": "code",
   "execution_count": 102,
   "id": "125b709d",
   "metadata": {},
   "outputs": [
    {
     "name": "stdout",
     "output_type": "stream",
     "text": [
      "[*********************100%***********************]  5 of 5 completed\n"
     ]
    }
   ],
   "source": [
    "overall_tickers = yf.Tickers(OVERALL_ESG_TICKERS)\n",
    "overall_esg_data = overall_tickers.download(group_by=\"column\", period=\"10y\")\n",
    "overall_esg_data['Close'].to_csv(os.path.join(DATA_FOLDER, \"10y_prices_overall_esg.csv\"), index=True)"
   ]
  },
  {
   "cell_type": "code",
   "execution_count": 103,
   "id": "72a688fd",
   "metadata": {},
   "outputs": [
    {
     "name": "stdout",
     "output_type": "stream",
     "text": [
      "[*********************100%***********************]  5 of 5 completed\n"
     ]
    }
   ],
   "source": [
    "env_tickers = yf.Tickers(ENVIRONMENT_ESG_TICKERS)\n",
    "env_data = env_tickers.download(group_by=\"column\", period=\"10y\")\n",
    "env_data['Close'].to_csv(os.path.join(DATA_FOLDER, \"10y_prices_env_esg.csv\"), index=True)"
   ]
  },
  {
   "cell_type": "code",
   "execution_count": 104,
   "id": "5f6268b0",
   "metadata": {},
   "outputs": [
    {
     "name": "stdout",
     "output_type": "stream",
     "text": [
      "[*********************100%***********************]  5 of 5 completed\n"
     ]
    }
   ],
   "source": [
    "soc_tickers = yf.Tickers(SOCIAL_ESG_TICKERS)\n",
    "soc_data = soc_tickers.download(group_by=\"column\", period=\"10y\")\n",
    "soc_data['Close'].to_csv(os.path.join(DATA_FOLDER, \"10y_prices_soc_esg.csv\"), index=True)"
   ]
  },
  {
   "cell_type": "code",
   "execution_count": 106,
   "id": "debe486a",
   "metadata": {},
   "outputs": [
    {
     "name": "stdout",
     "output_type": "stream",
     "text": [
      "[*********************100%***********************]  3 of 3 completed\n"
     ]
    }
   ],
   "source": [
    "index_tickers = yf.Tickers(INDEX_TRACKER_TICKERS)\n",
    "index_data = index_tickers.download(group_by=\"column\", period=\"10y\")\n",
    "index_data['Close'].to_csv(os.path.join(DATA_FOLDER, \"10y_prices_index_trackers.csv\"), index=True)"
   ]
  },
  {
   "cell_type": "code",
   "execution_count": 107,
   "id": "daaa590b",
   "metadata": {},
   "outputs": [
    {
     "name": "stdout",
     "output_type": "stream",
     "text": [
      "[*********************100%***********************]  3 of 3 completed\n"
     ]
    }
   ],
   "source": [
    "smart_beta_esg_tickers = yf.Tickers(SMART_BETA_ESG_TICKERS)\n",
    "smart_beta_esg_data = smart_beta_esg_tickers.download(group_by=\"column\", period=\"10y\")\n",
    "smart_beta_esg_data['Close'].to_csv(os.path.join(DATA_FOLDER, \"10y_prices_smart_beta_esg.csv\"), index=True)"
   ]
  },
  {
   "cell_type": "code",
   "execution_count": null,
   "id": "b94eabdb",
   "metadata": {},
   "outputs": [],
   "source": []
  }
 ],
 "metadata": {
  "kernelspec": {
   "display_name": "Python 3 (ipykernel)",
   "language": "python",
   "name": "python3"
  },
  "language_info": {
   "codemirror_mode": {
    "name": "ipython",
    "version": 3
   },
   "file_extension": ".py",
   "mimetype": "text/x-python",
   "name": "python",
   "nbconvert_exporter": "python",
   "pygments_lexer": "ipython3",
   "version": "3.10.4"
  }
 },
 "nbformat": 4,
 "nbformat_minor": 5
}
