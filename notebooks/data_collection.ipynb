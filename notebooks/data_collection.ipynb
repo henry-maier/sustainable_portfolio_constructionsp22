{
 "cells": [
  {
   "cell_type": "code",
   "execution_count": 2,
   "id": "f2f68b13",
   "metadata": {},
   "outputs": [],
   "source": [
    "import yfinance as yf\n",
    "import matplotlib.pyplot as plt\n",
    "import os\n",
    "from constants import *"
   ]
  },
  {
   "cell_type": "code",
   "execution_count": 3,
   "id": "d5729cbc",
   "metadata": {},
   "outputs": [],
   "source": [
    "### constants.py\n",
    "# import os\n",
    "# IMG_FILE = os.path.join(\"..\", \"img\")\n",
    "# DATA_FOLDER = os.path.join(\"..\", \"data\")\n",
    "# SMART_BETA_TICKERS = [\"VTV\", \"VUG\", \"IWF\", \"VIG\" ,\"IWD\", \"VYM\", \"SCHD\", \"RSP\", \"IVW\", \"USMV\"]\n",
    "# OVERALL_ESG_TICKERS = [\"ESGV\", \"ESGE\", \"XVV\", \"VSGX\", \"SUSB\"]\n",
    "# ENVIRONMENT_ESG_TICKERS = [\"ICLN\", \"CNRG\", \"CRBN\", \"SPYX\", \"ERTH\"]\n",
    "# SOCIAL_ESG_TICKERS = [\"DSI\", \"SUSA\", \"NUEM\", \"ICAN\", \"SHE\"]\n",
    "# INDEX_TRACKER_TICKERS = [\"SPY\", \"IWM\", \"QQQ\", \"IVV\", \"DIA\", \"VTI\",]\n",
    "# SMART_BETA_ESG_TICKERS = [\"RSPE\", \"MVEE.SW\", \"RAFE\"]\n",
    "\n",
    "# HEALTHY_TICKERS = [\"XHE\", \"PSCC\", \"BMED\", \"PBE\", \"FXH\", \"HTEC\", \"PINK\", \"IHI\", \"CHIH\", \"XBI\"]\n",
    "# HEALTHY_SB_TICKETS = [\"EUSC\",\"JHMH\", \"GXTG\", \"XLV\", \"SPMV\", \"PTH\", \"LVHI\", \"RODM\", \"IEIH\", \"BTEC\"]\n",
    "# CARBON_THEME_TICKERS = [\"SDG\",\"ERTH\", \"KGRN\", \"WNDY\", \"GBLD\", \"FRNW\", \"TAN\", \"ACES\", \"RNRG\", \"ICLN\"]\n",
    "# CARBON_THEME_SB_TICKERS = [\"SOLR\", \"EWRE\", \"RYH\", \"RHS\", \"IDHD\", \"UTRN\", \"MID\", \"AMOM\", \"JHMH\", \"ESMV\"]\n",
    "# WATER_CLEAN_ENERGY_TICKERS = [\"RNRG\", \"QCLN\", \"WOOD\", \"CTEX\", \"CLMA\", \"DTOX\", \"SHFT\", \"CNRG\", \"AQWA\", \"CGW\"]\n",
    "# WATER_CLEAN_ENERGY_SB_TICKERS = [\"STNC\", \"NULG\", \"MXDU\", \"EWJE\", \"ADIV\", \"JPIN\", \"IDLV\", \"IMFL\", \"PUI\", \"FEDM\"]"
   ]
  },
  {
   "cell_type": "code",
   "execution_count": 13,
   "id": "edda26d1",
   "metadata": {},
   "outputs": [],
   "source": [
    "smart_beta_tickers = yf.Tickers(SMART_BETA_TICKERS)"
   ]
  },
  {
   "cell_type": "code",
   "execution_count": 14,
   "id": "98348184",
   "metadata": {},
   "outputs": [
    {
     "name": "stdout",
     "output_type": "stream",
     "text": [
      "[*********************100%***********************]  10 of 10 completed\n"
     ]
    }
   ],
   "source": [
    "smart_beta_data = smart_beta_tickers.download(group_by=\"column\", period=\"10y\", interval=\"1mo\")"
   ]
  },
  {
   "cell_type": "code",
   "execution_count": 15,
   "id": "d5dcd2e3",
   "metadata": {},
   "outputs": [],
   "source": [
    "smart_beta_data['Close'][smart_beta_data.index.day == 1].to_csv(os.path.join(DATA_FOLDER, \"10y_prices_smart_beta.csv\"), index=True)"
   ]
  },
  {
   "cell_type": "code",
   "execution_count": 16,
   "id": "125b709d",
   "metadata": {},
   "outputs": [
    {
     "name": "stdout",
     "output_type": "stream",
     "text": [
      "[*********************100%***********************]  5 of 5 completed\n"
     ]
    }
   ],
   "source": [
    "overall_tickers = yf.Tickers(OVERALL_ESG_TICKERS)\n",
    "overall_esg_data = overall_tickers.download(group_by=\"column\", period=\"10y\", interval=\"1mo\")\n",
    "overall_esg_data['Close'][overall_esg_data.index.day == 1].to_csv(os.path.join(DATA_FOLDER, \"10y_prices_overall_esg.csv\"), index=True)"
   ]
  },
  {
   "cell_type": "code",
   "execution_count": 17,
   "id": "72a688fd",
   "metadata": {},
   "outputs": [
    {
     "name": "stdout",
     "output_type": "stream",
     "text": [
      "[*********************100%***********************]  5 of 5 completed\n"
     ]
    }
   ],
   "source": [
    "env_tickers = yf.Tickers(ENVIRONMENT_ESG_TICKERS)\n",
    "env_data = env_tickers.download(group_by=\"column\", period=\"10y\", interval=\"1mo\")\n",
    "env_data['Close'][env_data.index.day == 1].to_csv(os.path.join(DATA_FOLDER, \"10y_prices_env_esg.csv\"), index=True)"
   ]
  },
  {
   "cell_type": "code",
   "execution_count": 18,
   "id": "5f6268b0",
   "metadata": {},
   "outputs": [
    {
     "name": "stdout",
     "output_type": "stream",
     "text": [
      "[*********************100%***********************]  5 of 5 completed\n"
     ]
    }
   ],
   "source": [
    "soc_tickers = yf.Tickers(SOCIAL_ESG_TICKERS)\n",
    "soc_data = soc_tickers.download(group_by=\"column\", period=\"10y\", interval=\"1mo\")\n",
    "soc_data['Close'][soc_data.index.day == 1].to_csv(os.path.join(DATA_FOLDER, \"10y_prices_soc_esg.csv\"), index=True)"
   ]
  },
  {
   "cell_type": "code",
   "execution_count": 19,
   "id": "debe486a",
   "metadata": {},
   "outputs": [
    {
     "name": "stdout",
     "output_type": "stream",
     "text": [
      "[*********************100%***********************]  6 of 6 completed\n"
     ]
    }
   ],
   "source": [
    "index_tickers = yf.Tickers(INDEX_TRACKER_TICKERS)\n",
    "index_data = index_tickers.download(group_by=\"column\", period=\"10y\", interval=\"1mo\")\n",
    "index_data['Close'][index_data.index.day == 1].to_csv(os.path.join(DATA_FOLDER, \"10y_prices_index_trackers.csv\"), index=True)"
   ]
  },
  {
   "cell_type": "code",
   "execution_count": 11,
   "id": "daaa590b",
   "metadata": {},
   "outputs": [
    {
     "name": "stdout",
     "output_type": "stream",
     "text": [
      "[*********************100%***********************]  3 of 3 completed\n"
     ]
    }
   ],
   "source": [
    "smart_beta_esg_tickers = yf.Tickers(SMART_BETA_ESG_TICKERS)\n",
    "smart_beta_esg_data = smart_beta_esg_tickers.download(group_by=\"column\", period=\"10y\", interval=\"1mo\")\n",
    "smart_beta_esg_data['Close'].to_csv(os.path.join(DATA_FOLDER, \"10y_prices_smart_beta_esg.csv\"), index=True)"
   ]
  },
  {
   "cell_type": "code",
   "execution_count": 21,
   "id": "b94eabdb",
   "metadata": {},
   "outputs": [
    {
     "name": "stdout",
     "output_type": "stream",
     "text": [
      "[*********************100%***********************]  58 of 58 completed\n",
      "[*********************100%***********************]  58 of 58 completed\n"
     ]
    }
   ],
   "source": [
    "theme_tickers = yf.Tickers(HEALTHY_TICKERS + HEALTHY_SB_TICKETS + CARBON_THEME_TICKERS + CARBON_THEME_SB_TICKERS + \\\n",
    "                             WATER_CLEAN_ENERGY_TICKERS + WATER_CLEAN_ENERGY_SB_TICKERS)\n",
    "theme_data_3y = theme_tickers.download(period=\"3y\", interval=\"1mo\")\n",
    "theme_data_3y['Close'][theme_data_3y.index.day == 1].to_csv(os.path.join(DATA_FOLDER, \"3y_prices_theme_etfs.csv\"), index=True)\n",
    "theme_data_5y = theme_tickers.download(period=\"5y\", interval=\"1mo\")\n",
    "theme_data_5y['Close'][theme_data_5y.index.day == 1].to_csv(os.path.join(DATA_FOLDER, \"5y_prices_theme_etfs.csv\"), index=True)"
   ]
  }
 ],
 "metadata": {
  "kernelspec": {
   "display_name": "Python 3 (ipykernel)",
   "language": "python",
   "name": "python3"
  },
  "language_info": {
   "codemirror_mode": {
    "name": "ipython",
    "version": 3
   },
   "file_extension": ".py",
   "mimetype": "text/x-python",
   "name": "python",
   "nbconvert_exporter": "python",
   "pygments_lexer": "ipython3",
   "version": "3.10.4"
  }
 },
 "nbformat": 4,
 "nbformat_minor": 5
}
